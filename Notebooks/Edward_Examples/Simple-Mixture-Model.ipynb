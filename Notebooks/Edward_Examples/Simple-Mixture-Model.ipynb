{
 "cells": [
  {
   "cell_type": "code",
   "execution_count": 1,
   "metadata": {},
   "outputs": [],
   "source": [
    "import numpy as np\n",
    "import tensorflow as tf\n",
    "import edward as ed\n",
    "# specific modules\n",
    "from edward.models import Normal\n",
    "from edward.models import Categorical, Mixture\n",
    "# visualization\n",
    "import matplotlib.pyplot as plt\n",
    "\n",
    "import sys\n",
    "import os\n",
    "# Don't require pip install to test out\n",
    "sys.path.append(os.getcwd() + '/../../src')\n",
    "from dfgmark import edwardbench as edbench"
   ]
  },
  {
   "cell_type": "code",
   "execution_count": 2,
   "metadata": {},
   "outputs": [
    {
     "name": "stdout",
     "output_type": "stream",
     "text": [
      "Help on function sample_model in module dfgmark.edwardbench:\n",
      "\n",
      "sample_model(model_template, n_samples)\n",
      "    Make n_sample observations of an Edward model\n",
      "    \n",
      "    Args:\n",
      "        model_template (edward.models): An Edward model (a sample_shape is not required)\n",
      "        n_samples (int): The number of observation of the model to make\n",
      "    \n",
      "    Returns:\n",
      "        model (edward.models): An Edward model with sample_shape=n_samples\n",
      "        samples (np.ndarray): An array of n_samples sampled observation of model\n",
      "\n"
     ]
    }
   ],
   "source": [
    "help(edbench.sample_model)"
   ]
  },
  {
   "cell_type": "code",
   "execution_count": 3,
   "metadata": {},
   "outputs": [
    {
     "name": "stdout",
     "output_type": "stream",
     "text": [
      "Help on function fit_model in module dfgmark.edwardbench:\n",
      "\n",
      "fit_model(model, observations, POI, fit_type='mle')\n",
      "    Perform a fit of the model to data\n",
      "    \n",
      "    Args:\n",
      "        model (ed.models class): An Edward model\n",
      "        observations (np.ndarray): Data to fit the model to\n",
      "        POI (list): Parameters of interest to return fit results on\n",
      "        fit_type (str): The minimization technique used\n",
      "    \n",
      "    Returns:\n",
      "        fit_result (list): An list of the fitted model parameters of interest\n",
      "\n"
     ]
    }
   ],
   "source": [
    "help(edbench.fit_model)"
   ]
  },
  {
   "cell_type": "code",
   "execution_count": 4,
   "metadata": {},
   "outputs": [
    {
     "name": "stdout",
     "output_type": "stream",
     "text": [
      "1000/1000 [100%] ██████████████████████████████ Elapsed: 1s | Loss: 19359.039\n",
      "[-0.04695639, 2.9695766]\n"
     ]
    },
    {
     "data": {
      "image/png": "[encoded data removed]",
      "text/plain": [
       "<matplotlib.figure.Figure at 0x7f9e89290f60>"
      ]
     },
     "metadata": {},
     "output_type": "display_data"
    }
   ],
   "source": [
    "N = 10000\n",
    "\n",
    "mean1 = tf.Variable(0., name='mean1')\n",
    "mean2 = tf.Variable(3., name='mean2')\n",
    "\n",
    "Gaus1 = Normal(loc=mean1, scale=1.)\n",
    "Gaus2 = Normal(loc=mean2, scale=1.)\n",
    "frac_1 = 0.4\n",
    "frac_2 = 1 - frac_1\n",
    "cat = Categorical(probs=[frac_1, frac_2])\n",
    "components = [Gaus1, Gaus2]\n",
    "# Gaussian mixture model\n",
    "model_template = Mixture(cat=cat, components=components)\n",
    "\n",
    "model, samples = edbench.sample_model(model_template, N)\n",
    "\n",
    "POI = [mean1, mean2]\n",
    "fit_result = edbench.fit_model(model, samples, POI)\n",
    "print(fit_result)\n",
    "    \n",
    "plt.hist(samples, bins=50, range=(-3.0, 9.0))\n",
    "plt.show()"
   ]
  }
 ],
 "metadata": {
  "kernelspec": {
   "display_name": "Python 3",
   "language": "python",
   "name": "python3"
  },
  "language_info": {
   "codemirror_mode": {
    "name": "ipython",
    "version": 3
   },
   "file_extension": ".py",
   "mimetype": "text/x-python",
   "name": "python",
   "nbconvert_exporter": "python",
   "pygments_lexer": "ipython3",
   "version": "3.6.1"
  }
 },
 "nbformat": 4,
 "nbformat_minor": 2
}
