{
 "cells": [
  {
   "cell_type": "markdown",
   "metadata": {},
   "source": [
    "[From Anton Poluektov's \"Performing amplitude fits with `TensorFlow`\" talk](https://indico.cern.ch/event/613842/contributions/2585806/attachments/1464213/2262841/tfa.pdf#page=6)"
   ]
  },
  {
   "cell_type": "code",
   "execution_count": 1,
   "metadata": {
    "collapsed": true
   },
   "outputs": [],
   "source": [
    "import tensorflow as tf\n",
    "import numpy as np\n",
    "\n",
    "import itertools # for fast looping\n",
    "import time # for timing loop\n",
    "from iminuit import Minuit"
   ]
  },
  {
   "cell_type": "code",
   "execution_count": 2,
   "metadata": {
    "collapsed": true
   },
   "outputs": [],
   "source": [
    "x = tf.placeholder(tf.float32, shape = (None))\n",
    "w = tf.Variable(1.)\n",
    "p = tf.Variable(0.)\n",
    "a = tf.Variable(1.)\n",
    "\n",
    "# Build the computational graph (a function is a graph!)\n",
    "f = a * tf.sin(w*x + p)"
   ]
  },
  {
   "cell_type": "code",
   "execution_count": 3,
   "metadata": {
    "collapsed": true
   },
   "outputs": [],
   "source": [
    "def eval_func(f):\n",
    "    \n",
    "    with tf.Session() as sess:\n",
    "        # Create TF session and initialise variables\n",
    "        init = tf.global_variables_initializer()\n",
    "        sess.run(init)\n",
    "        \n",
    "        # Run calculation of y by feeding data to tensor x\n",
    "        return sess.run(f, feed_dict = { x : [1., 2., 3., 4.] })"
   ]
  },
  {
   "cell_type": "code",
   "execution_count": 4,
   "metadata": {},
   "outputs": [
    {
     "name": "stdout",
     "output_type": "stream",
     "text": [
      "[ 0.84147096  0.90929741  0.14112    -0.7568025 ]\n"
     ]
    }
   ],
   "source": [
    "y_data = eval_func(f)\n",
    "print(y_data)"
   ]
  },
  {
   "cell_type": "markdown",
   "metadata": {},
   "source": [
    "Other Examples"
   ]
  },
  {
   "cell_type": "code",
   "execution_count": 5,
   "metadata": {
    "collapsed": true
   },
   "outputs": [],
   "source": [
    "mu = 0.\n",
    "sigma = 3.\n",
    "\n",
    "# pdf of Gaussian of variable x with mean mu and standard deviation sigma\n",
    "dist = tf.contrib.distributions.Normal(loc=mu, scale=sigma)"
   ]
  },
  {
   "cell_type": "code",
   "execution_count": 6,
   "metadata": {},
   "outputs": [],
   "source": [
    "with tf.Session() as sess:\n",
    "    init = tf.global_variables_initializer()\n",
    "    sess.run(init)\n",
    "    \n",
    "    # Cumulative distribution funtion of pdf evalauted at x=1\n",
    "    sess.run(dist.cdf(1.))\n",
    "    \n",
    "    # Evaluate the pdf at x=0\n",
    "    sess.run(dist.prob(0.))\n",
    "    \n",
    "    sample_data = sess.run(dist.sample(10))\n",
    "    \n",
    "    y_data = sess.run(dist.prob(sample_data))"
   ]
  },
  {
   "cell_type": "code",
   "execution_count": 7,
   "metadata": {},
   "outputs": [
    {
     "name": "stdout",
     "output_type": "stream",
     "text": [
      "[ 0.04039098  0.13116929  0.13069689  0.09667946  0.087863    0.0377687\n",
      "  0.06257927  0.09173018  0.0504996   0.08712515]\n"
     ]
    }
   ],
   "source": [
    "print(y_data)"
   ]
  },
  {
   "cell_type": "code",
   "execution_count": 8,
   "metadata": {
    "collapsed": true
   },
   "outputs": [],
   "source": [
    "def sample_model(model, n_samples):\n",
    "    x = model.sample(n_samples)\n",
    "    y = model.prob(x)\n",
    "    \n",
    "    with tf.Session() as sess:\n",
    "        init = tf.global_variables_initializer()\n",
    "        sess.run(init)\n",
    "        return sess.run(x), sess.run(y)"
   ]
  },
  {
   "cell_type": "code",
   "execution_count": 9,
   "metadata": {
    "collapsed": true
   },
   "outputs": [],
   "source": [
    "test_x, test_y = sample_model(dist, 100)"
   ]
  },
  {
   "cell_type": "code",
   "execution_count": 10,
   "metadata": {},
   "outputs": [
    {
     "name": "stdout",
     "output_type": "stream",
     "text": [
      "[-1.69987428 -2.01465535  2.51488042 -2.71445441 -0.54834217 -3.38368177\n",
      "  0.07994295  5.52828121  3.3390305   1.48724782  0.66771591  1.29307485\n",
      " -3.40427446 -0.59513313  5.71594858  6.94065714  1.98987257 -1.94839644\n",
      " -1.01324224 -0.52712667  0.27350378  0.35006088 -0.65790403 -0.64984143\n",
      "  1.86532378  1.31571257  0.96918392 -2.01526618  0.19849496  0.53363222\n",
      "  2.3962605  -5.2568965  -0.13337657  2.12090111  1.09981918  0.26945564\n",
      " -5.22269821  1.6723392  -3.11538935  0.70398021 -2.98417568  0.21909946\n",
      "  2.06357431 -4.49498844 -5.96870804 -0.76383638  2.09158611 -3.58911419\n",
      " -0.47039324  0.40047371 -3.66735458  1.19181681  4.61252022 -1.4083091\n",
      "  1.13313293  3.40650272 -1.26915312 -5.50266361 -1.69950247 -2.55948973\n",
      " -1.26903021  4.35879803  0.02533636 -2.7045269   0.39412659 -5.26360846\n",
      "  0.23553206  1.44785905  1.72671485  1.81495595 -0.3719807  -1.52246642\n",
      " -2.12116742 -1.29306281 -0.29624647 -1.74591672  1.6651454   2.30977821\n",
      " -3.93077803  2.96089721 -1.99955821  0.41935667 -0.42687669  0.27831018\n",
      "  1.02549279  5.3813014   3.98967695  1.78102362  2.4075017   2.47192073\n",
      " -1.70539534  2.27563238 -0.16783291 -1.78486311 -3.20011854  6.60309219\n",
      "  0.14469761  4.42518997  0.50358069  3.30058146]\n",
      "[ 0.11332238  0.08302259  0.01289802  0.0988999   0.09665835  0.11539005\n",
      "  0.08280475  0.12992592  0.12259465  0.12300362  0.11713845  0.13278407\n",
      "  0.11311526  0.06362665  0.10272002  0.02767919  0.11815219  0.09815258\n",
      "  0.13109791  0.115655    0.12162297  0.0914793   0.10969693  0.12786959\n",
      "  0.11520521  0.13279378  0.11116556  0.10344441  0.13188505  0.12015425\n",
      "  0.11070196  0.08315441  0.10938869  0.0587211   0.07525682  0.12526999\n",
      "  0.05591631  0.13296036  0.10181201  0.02870626  0.12285256  0.04444921\n",
      "  0.09560457  0.11406831  0.1263693   0.1290763   0.12960157  0.1276592\n",
      "  0.09943346  0.12801537  0.09436908  0.12284911  0.13014744  0.11137553\n",
      "  0.04713212  0.13226913  0.12432861  0.12425037  0.08466268  0.10805731\n",
      "  0.08630447  0.08458807  0.11592773  0.04980663  0.09065787  0.1115367\n",
      "  0.1319444   0.10739799  0.13009399  0.05964484  0.08432883  0.12575175\n",
      "  0.09304619  0.0042575   0.1329667   0.01377937  0.10876103  0.10423322\n",
      "  0.08968221  0.09411504  0.0213933   0.07285211  0.12287673  0.12740053\n",
      "  0.04502488  0.12772578  0.12867881  0.13015868  0.11740737  0.07202975\n",
      "  0.12165716  0.11786444  0.13094601  0.03628377  0.02165087  0.04279458\n",
      "  0.10668182  0.12588809  0.06148555  0.11663035]\n"
     ]
    }
   ],
   "source": [
    "print(test_x)\n",
    "print(test_y)"
   ]
  },
  {
   "cell_type": "markdown",
   "metadata": {},
   "source": [
    "c.f. https://gist.github.com/ibab/45c3d886c182a1ea26d5"
   ]
  },
  {
   "cell_type": "code",
   "execution_count": 11,
   "metadata": {
    "collapsed": true
   },
   "outputs": [],
   "source": [
    "def normal_log(X, mu, sigma, TYPE=np.float32):\n",
    "    return -tf.log(tf.constant(np.sqrt(2 * np.pi), dtype=TYPE) * sigma) - \\\n",
    "        tf.pow(X - mu, 2) / (tf.constant(2, dtype=TYPE) * tf.pow(sigma, 2))"
   ]
  },
  {
   "cell_type": "code",
   "execution_count": 12,
   "metadata": {
    "collapsed": true
   },
   "outputs": [],
   "source": [
    "def nll(X, mu, sigma, TYPE=np.float32):\n",
    "    return -tf.reduce_sum(normal_log(X, mu, sigma, TYPE))"
   ]
  },
  {
   "cell_type": "code",
   "execution_count": 13,
   "metadata": {
    "scrolled": false
   },
   "outputs": [
    {
     "name": "stdout",
     "output_type": "stream",
     "text": [
      "mu = 0.49853884540774374, sigma = 1.500036754143963\n",
      "\n",
      "fit 10 times in 10.461521625518799 seconds\n",
      "The average fit time is 1.04615216255188 seconds\n"
     ]
    }
   ],
   "source": [
    "# MLE attempt\n",
    "TYPE = np.float64\n",
    "\n",
    "n_events = 1000000\n",
    "n_trials = 10\n",
    "\n",
    "sess = tf.Session()\n",
    "\n",
    "def func(mu_, sigma_):\n",
    "    return sess.run(nll_, feed_dict={mu: mu_, sigma: sigma_})\n",
    "\n",
    "start_time = time.time()\n",
    "for _ in itertools.repeat(None, n_trials):\n",
    "    data = np.random.normal(0.5, 1.5, n_events).astype(TYPE)\n",
    "    \n",
    "    # Define data as a variable so that it will be cached\n",
    "    X = tf.Variable(data, name='data')\n",
    "    \n",
    "    mu = tf.Variable(TYPE(1), name='mu')\n",
    "    sigma = tf.Variable(TYPE(2), name='sigma')\n",
    "    \n",
    "    init = tf.global_variables_initializer()\n",
    "    sess.run(init)\n",
    "    \n",
    "    nll_ = nll(X, mu, sigma, TYPE)\n",
    "    \n",
    "    # To guard against excessive output\n",
    "    if n_trials > 1:\n",
    "        print_level = 0\n",
    "    else:\n",
    "        print_level = 1\n",
    "    \n",
    "    minuit = Minuit(func, mu_=10, sigma_=10, error_mu_=0.5, error_sigma_=0.5,\n",
    "           limit_mu_=(-1, 100), limit_sigma_=(0, 100), errordef=1, print_level=print_level)\n",
    "    minuit.migrad()\n",
    "    minuit.minos()\n",
    "    \n",
    "end_time = time.time()\n",
    "time_duration = end_time - start_time\n",
    "mean_fit_time = time_duration/n_trials\n",
    "\n",
    "mu_ = minuit.values['mu_']\n",
    "sigma_ = minuit.values['sigma_']\n",
    "\n",
    "sess.close()\n",
    "\n",
    "print(\"mu = {}, sigma = {}\".format(mu_, sigma_))\n",
    "\n",
    "print(\"\\nfit {} times in {} seconds\".format(n_trials, time_duration))\n",
    "print(\"The average fit time is {} seconds\".format(mean_fit_time))"
   ]
  },
  {
   "cell_type": "code",
   "execution_count": null,
   "metadata": {
    "collapsed": true
   },
   "outputs": [],
   "source": []
  }
 ],
 "metadata": {
  "kernelspec": {
   "display_name": "Python [conda root]",
   "language": "python",
   "name": "conda-root-py"
  },
  "language_info": {
   "codemirror_mode": {
    "name": "ipython",
    "version": 3
   },
   "file_extension": ".py",
   "mimetype": "text/x-python",
   "name": "python",
   "nbconvert_exporter": "python",
   "pygments_lexer": "ipython3",
   "version": "3.5.3"
  }
 },
 "nbformat": 4,
 "nbformat_minor": 2
}
