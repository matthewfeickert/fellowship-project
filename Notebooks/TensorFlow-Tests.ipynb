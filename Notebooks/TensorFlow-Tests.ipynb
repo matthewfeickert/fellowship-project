{
 "cells": [
  {
   "cell_type": "markdown",
   "metadata": {},
   "source": [
    "[From Anton Poluektov's \"Performing amplitude fits with `TensorFlow`\" talk](https://indico.cern.ch/event/613842/contributions/2585806/attachments/1464213/2262841/tfa.pdf#page=6)"
   ]
  },
  {
   "cell_type": "code",
   "execution_count": 1,
   "metadata": {},
   "outputs": [],
   "source": [
    "import tensorflow as tf\n",
    "import numpy as np\n",
    "\n",
    "import itertools # for fast looping\n",
    "import time # for timing loop\n",
    "from iminuit import Minuit # http://iminuit.readthedocs.io/en/latest/installation.html\n",
    "from scipy.optimize import minimize"
   ]
  },
  {
   "cell_type": "code",
   "execution_count": 2,
   "metadata": {
    "collapsed": true
   },
   "outputs": [],
   "source": [
    "x = tf.placeholder(tf.float32, shape = (None))\n",
    "w = tf.Variable(1.)\n",
    "p = tf.Variable(0.)\n",
    "a = tf.Variable(1.)\n",
    "\n",
    "# Build the computational graph (a function is a graph!)\n",
    "f = a * tf.sin(w*x + p)"
   ]
  },
  {
   "cell_type": "code",
   "execution_count": 3,
   "metadata": {
    "collapsed": true
   },
   "outputs": [],
   "source": [
    "def eval_func(f):\n",
    "    \n",
    "    with tf.Session() as sess:\n",
    "        # Create TF session and initialise variables\n",
    "        init = tf.global_variables_initializer()\n",
    "        sess.run(init)\n",
    "        \n",
    "        # Run calculation of y by feeding data to tensor x\n",
    "        return sess.run(f, feed_dict = { x : [1., 2., 3., 4.] })"
   ]
  },
  {
   "cell_type": "code",
   "execution_count": 4,
   "metadata": {},
   "outputs": [
    {
     "name": "stdout",
     "output_type": "stream",
     "text": [
      "[ 0.84147096  0.90929741  0.14112    -0.7568025 ]\n"
     ]
    }
   ],
   "source": [
    "y_data = eval_func(f)\n",
    "print(y_data)"
   ]
  },
  {
   "cell_type": "markdown",
   "metadata": {},
   "source": [
    "Other Examples"
   ]
  },
  {
   "cell_type": "code",
   "execution_count": 5,
   "metadata": {
    "collapsed": true
   },
   "outputs": [],
   "source": [
    "mu = 0.\n",
    "sigma = 3.\n",
    "\n",
    "# pdf of Gaussian of variable x with mean mu and standard deviation sigma\n",
    "dist = tf.contrib.distributions.Normal(loc=mu, scale=sigma)"
   ]
  },
  {
   "cell_type": "code",
   "execution_count": 6,
   "metadata": {
    "collapsed": true
   },
   "outputs": [],
   "source": [
    "with tf.Session() as sess:\n",
    "    init = tf.global_variables_initializer()\n",
    "    sess.run(init)\n",
    "    \n",
    "    # Cumulative distribution funtion of pdf evalauted at x=1\n",
    "    sess.run(dist.cdf(1.))\n",
    "    \n",
    "    # Evaluate the pdf at x=0\n",
    "    sess.run(dist.prob(0.))\n",
    "    \n",
    "    sample_data = sess.run(dist.sample(10))\n",
    "    \n",
    "    y_data = sess.run(dist.prob(sample_data))"
   ]
  },
  {
   "cell_type": "code",
   "execution_count": 7,
   "metadata": {},
   "outputs": [
    {
     "name": "stdout",
     "output_type": "stream",
     "text": [
      "[ 0.13263623  0.04962614  0.13274099  0.0158738   0.03045372  0.10307471\n",
      "  0.08750544  0.02811804  0.13294983  0.125588  ]\n"
     ]
    }
   ],
   "source": [
    "print(y_data)"
   ]
  },
  {
   "cell_type": "code",
   "execution_count": 8,
   "metadata": {
    "collapsed": true
   },
   "outputs": [],
   "source": [
    "def sample_model(model, n_samples):\n",
    "    x = model.sample(n_samples)\n",
    "    y = model.prob(x)\n",
    "    \n",
    "    with tf.Session() as sess:\n",
    "        init = tf.global_variables_initializer()\n",
    "        sess.run(init)\n",
    "        return sess.run(x), sess.run(y)"
   ]
  },
  {
   "cell_type": "code",
   "execution_count": 9,
   "metadata": {
    "collapsed": true
   },
   "outputs": [],
   "source": [
    "test_x, test_y = sample_model(dist, 100)"
   ]
  },
  {
   "cell_type": "code",
   "execution_count": 10,
   "metadata": {},
   "outputs": [
    {
     "name": "stdout",
     "output_type": "stream",
     "text": [
      "[ 6.12136745  2.14929724 -2.42215586 -0.49874809  4.37878323 -1.2776072\n",
      " -0.28020611 -0.96697176  1.5103848  -2.01455927 -2.45346951  1.40705061\n",
      " -2.83250189  3.38850212 -2.29941034 -2.64653397 -1.43943262 -0.88001215\n",
      " -2.2763176  -1.82501221  2.12087607  0.95849395  0.19783127 -1.0628556\n",
      " -0.84167737  1.25285673 -3.36018062 -1.91486478 -1.58766961 -1.44333768\n",
      "  1.58418798  3.36047673 -1.23031044  3.12290955 -0.8545562   3.02979612\n",
      " -0.2986058  -7.03484821  4.05515099 -1.72066498  4.70691252  1.95766425\n",
      "  8.78167725  3.30249882  1.90468788 -0.74337786  3.6788187  -2.96089792\n",
      " -1.20180106  0.77169633 -2.56228232  1.92446089 -4.35904121  1.53148746\n",
      " -3.83214188  0.55638379  0.65219474 -2.75851107 -0.59912813  0.58427006\n",
      " -3.11324358 -6.84425354 -0.88985896  1.87047267 -3.32977295  4.44586849\n",
      " -2.37641382  2.33079553 -1.69873619 -0.3452386   2.26193571  0.53274149\n",
      "  2.46531296  1.67562556  6.75644684 -3.26527333 -4.465343   -0.11815143\n",
      "  0.98029894 -1.96178269 -3.96152592 -3.3050251   5.16272163 -3.29672575\n",
      " -3.10155725  1.91710591  2.82984924  2.54578638 -2.54115462 -2.08754301\n",
      " -0.57627749  2.27019501  0.05645423 -0.78343731  5.99995804  2.52859044\n",
      " -0.63740599  1.37340558 -1.955194   -2.75413752]\n",
      "[ 0.02571785  0.12337322  0.05609877  0.02991055  0.01489155  0.12595885\n",
      "  0.12211177  0.13103604  0.13056275  0.073862    0.13267103  0.07275567\n",
      "  0.0790406   0.13205332  0.04231676  0.06470764  0.061453    0.08736734\n",
      "  0.08733699  0.08549985  0.11327373  0.11791414  0.03134107  0.12822124\n",
      "  0.06144129  0.13209429  0.04577635  0.12772639  0.08015969  0.00281121\n",
      "  0.13225749  0.11814573  0.02975958  0.0725049   0.13264418  0.13288882\n",
      "  0.07618008  0.00347529  0.10625228  0.08875155  0.13134073  0.09881824\n",
      "  0.00882801  0.09863995  0.06214638  0.11488002  0.09736767  0.1060558\n",
      "  0.04055914  0.05010291  0.10293838  0.00347886  0.1075189   0.12711421\n",
      "  0.1236757   0.11970174  0.04965944  0.11859067  0.12986144  0.11238848\n",
      "  0.10769381  0.13280088  0.12644938  0.13167959  0.07590465  0.00651783\n",
      "  0.07838015  0.11289576  0.05894145  0.13255753  0.13250175  0.06539795\n",
      "  0.13289396  0.04342978  0.12665753  0.11276387  0.10980526  0.13061643\n",
      "  0.01902566  0.13140979  0.11919325  0.07341909  0.12393017  0.11091519\n",
      "  0.11756157  0.04898761  0.05685122  0.03621938  0.12635002  0.04912868\n",
      "  0.07396603  0.11352214  0.11237861  0.07389896  0.08099245  0.03150695\n",
      "  0.13154301  0.12272288  0.10952426  0.1057673 ]\n"
     ]
    }
   ],
   "source": [
    "print(test_x)\n",
    "print(test_y)"
   ]
  },
  {
   "cell_type": "markdown",
   "metadata": {},
   "source": [
    "c.f. https://gist.github.com/ibab/45c3d886c182a1ea26d5"
   ]
  },
  {
   "cell_type": "code",
   "execution_count": 11,
   "metadata": {
    "collapsed": true
   },
   "outputs": [],
   "source": [
    "def normal_log(X, mu, sigma, TYPE=np.float32):\n",
    "    return -tf.log(tf.constant(np.sqrt(2 * np.pi), dtype=TYPE) * sigma) - \\\n",
    "        tf.pow(X - mu, 2) / (tf.constant(2, dtype=TYPE) * tf.pow(sigma, 2))"
   ]
  },
  {
   "cell_type": "code",
   "execution_count": 12,
   "metadata": {
    "collapsed": true
   },
   "outputs": [],
   "source": [
    "def nll(X, mu, sigma, TYPE=np.float32):\n",
    "    return -tf.reduce_sum(normal_log(X, mu, sigma, TYPE))"
   ]
  },
  {
   "cell_type": "code",
   "execution_count": 13,
   "metadata": {
    "scrolled": false
   },
   "outputs": [
    {
     "name": "stdout",
     "output_type": "stream",
     "text": [
      "mu = 0.4999729388987804, sigma = 1.499371662468684\n",
      "\n",
      "fit 10 times in 5.992491960525513 seconds\n",
      "The average fit time is 0.5992491960525512 seconds\n"
     ]
    }
   ],
   "source": [
    "# MLE attempt\n",
    "TYPE = np.float64\n",
    "\n",
    "n_events = 1000000 # time of fit is very dependent on n_events\n",
    "n_trials = 10\n",
    "\n",
    "sess = tf.Session()\n",
    "\n",
    "def func(mu_, sigma_):\n",
    "    return sess.run(nll_, feed_dict={mu: mu_, sigma: sigma_})\n",
    "\n",
    "# Gilles example\n",
    "def func_scipy(x):\n",
    "    return sess.run(nll_, feed_dict={mu: x[0], sigma: x[1]})\n",
    "\n",
    "\n",
    "start_time = time.time()\n",
    "for _ in itertools.repeat(None, n_trials):\n",
    "    data = np.random.normal(0.5, 1.5, n_events).astype(TYPE)\n",
    "    \n",
    "    # Define data as a variable so that it will be cached\n",
    "    X = tf.Variable(data, name='data')\n",
    "    \n",
    "    mu = tf.Variable(TYPE(1), name='mu')\n",
    "    sigma = tf.Variable(TYPE(2), name='sigma')\n",
    "    \n",
    "    init = tf.global_variables_initializer()\n",
    "    sess.run(init)\n",
    "    \n",
    "    nll_ = nll(X, mu, sigma, TYPE)\n",
    "    \n",
    "    # To guard against excessive output\n",
    "    if n_trials > 1:\n",
    "        print_level = 0\n",
    "    else:\n",
    "        print_level = 1\n",
    "    \n",
    "#     minuit = Minuit(func, mu_=10, sigma_=10, error_mu_=0.5, error_sigma_=0.5,\n",
    "#            limit_mu_=(-1, 100), limit_sigma_=(0, 100), errordef=1, print_level=print_level)\n",
    "#     minuit.migrad()\n",
    "#     minuit.minos()\n",
    "    \n",
    "    # Gilles example\n",
    "    ret = minimize(func_scipy, x0=[10, 10], bounds=[(-1, 100), (0.00001, 100)])\n",
    "    #print(ret.x, ret.fun) # x is an array of fit values, fun is the value of the function passed\n",
    "    \n",
    "end_time = time.time()\n",
    "time_duration = end_time - start_time\n",
    "mean_fit_time = time_duration/n_trials\n",
    "\n",
    "# mu_ = minuit.values['mu_']\n",
    "# sigma_ = minuit.values['sigma_']\n",
    "\n",
    "sess.close()\n",
    "\n",
    "#print(\"mu = {}, sigma = {}\".format(mu_, sigma_))\n",
    "print(\"mu = {}, sigma = {}\".format(ret.x[0], ret.x[1]))\n",
    "\n",
    "print(\"\\nfit {} times in {} seconds\".format(n_trials, time_duration))\n",
    "print(\"The average fit time is {} seconds\".format(mean_fit_time))"
   ]
  }
 ],
 "metadata": {
  "kernelspec": {
   "display_name": "Python 3",
   "language": "python",
   "name": "python3"
  },
  "language_info": {
   "codemirror_mode": {
    "name": "ipython",
    "version": 3
   },
   "file_extension": ".py",
   "mimetype": "text/x-python",
   "name": "python",
   "nbconvert_exporter": "python",
   "pygments_lexer": "ipython3",
   "version": "3.6.3"
  }
 },
 "nbformat": 4,
 "nbformat_minor": 2
}
