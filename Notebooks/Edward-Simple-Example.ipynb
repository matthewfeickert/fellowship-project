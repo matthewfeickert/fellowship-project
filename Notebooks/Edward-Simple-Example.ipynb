{
 "cells": [
  {
   "cell_type": "markdown",
   "metadata": {},
   "source": [
    "# Example model in Edward"
   ]
  },
  {
   "cell_type": "code",
   "execution_count": 1,
   "metadata": {
    "collapsed": true
   },
   "outputs": [],
   "source": [
    "import numpy as np\n",
    "import tensorflow as tf\n",
    "import edward as ed\n",
    "# specific modules\n",
    "from edward.models import Normal\n",
    "from edward.models import ParamMixture\n",
    "# visualization\n",
    "import matplotlib.pyplot as plt"
   ]
  },
  {
   "cell_type": "code",
   "execution_count": 2,
   "metadata": {
    "collapsed": true
   },
   "outputs": [],
   "source": [
    "def sample_model(model_template, n_samples):\n",
    "    \"\"\"\n",
    "    Make n_sample observations of an Edward model\n",
    "    \n",
    "    Args:\n",
    "        model_template (edward.models): An Edward model (a sample_shape is not required)\n",
    "        n_samples (int): The number of observation of the model to make\n",
    "    \n",
    "    Returns:\n",
    "        model (edward.models): An Edward model with sample_shape=n_samples\n",
    "        samples (np.ndarray): An array of n_samples sampled observation of model\n",
    "    \"\"\"\n",
    "    model = model_template.copy(sample_shape=n_samples)\n",
    "    with tf.Session() as sess:\n",
    "        sess.run(tf.global_variables_initializer())\n",
    "        samples = sess.run(model)\n",
    "    return model, samples"
   ]
  },
  {
   "cell_type": "code",
   "execution_count": 3,
   "metadata": {
    "collapsed": true
   },
   "outputs": [],
   "source": [
    "def fit_model(model, observations, POI, fit_type='mle'):\n",
    "    \"\"\"\n",
    "    Perform a fit of the model to data\n",
    "    \n",
    "    Args:\n",
    "        model (ed.models class): An Edward model\n",
    "        observations (np.ndarray): Data to fit the model to\n",
    "        POI (list): Parameters of interest to return fit results on\n",
    "        fit_type (str): The minimization technique used\n",
    "    \n",
    "    Returns:\n",
    "        fit_result (list): An list of the fitted model parameters of interest\n",
    "    \"\"\"\n",
    "    # observations is an ndarray of (n_observations, d_features)\n",
    "    # model and data (obsevations) need to have the same size\n",
    "    assert model.get_shape() == observations.shape,\\\n",
    "    \"The model and observed data features must be of the same shape.\\n\\\n",
    "    The model passed has shape {0} and the data passed have shape (n_observations, d_features) = {1}\".format(\n",
    "        model.get_shape(), observations.shape)\n",
    "    \n",
    "    fit_type = fit_type.lower()\n",
    "    if fit_type == 'mle':\n",
    "        fit = ed.MAP({}, data={model: observations}) # http://edwardlib.org/api/ed/MAP\n",
    "    else:\n",
    "        fit = ed.MAP({}, data={model: observations}) #default to mle\n",
    "    fit.run()\n",
    "    \n",
    "    sess = ed.get_session()\n",
    "    \n",
    "    fit_result = []\n",
    "    for poi in POI:\n",
    "        fit_result.append(sess.run(poi))\n",
    "    return fit_result"
   ]
  },
  {
   "cell_type": "markdown",
   "metadata": {},
   "source": [
    "Let's construct an Edward model which will represent $N$ observations of a 1-d Gaussian"
   ]
  },
  {
   "cell_type": "code",
   "execution_count": 4,
   "metadata": {},
   "outputs": [
    {
     "name": "stdout",
     "output_type": "stream",
     "text": [
      "1000/1000 [100%] ██████████████████████████████ Elapsed: 1s | Loss: 1410.116\n",
      "[2.963619]\n"
     ]
    }
   ],
   "source": [
    "#edward model: univariate Normal\n",
    "mean = tf.Variable(3.0, name='mean')\n",
    "std = tf.Variable(1.0, name='std')\n",
    "N = 1000\n",
    "\n",
    "model_template = Normal(loc=mean, scale=std)\n",
    "\n",
    "# make N observations of model\n",
    "model, samples = sample_model(model_template, N)\n",
    "\n",
    "POI = [mean]\n",
    "fit_result = fit_model(model, samples, POI)\n",
    "print(fit_result)"
   ]
  },
  {
   "cell_type": "code",
   "execution_count": 5,
   "metadata": {},
   "outputs": [
    {
     "data": {
      "image/png": "[encoded data removed]",
      "text/plain": [
       "<matplotlib.figure.Figure at 0x7f4200ce0048>"
      ]
     },
     "metadata": {},
     "output_type": "display_data"
    }
   ],
   "source": [
    "plt.hist(samples, bins=20, range=(-3.0, 9.0))\n",
    "plt.show()"
   ]
  },
  {
   "cell_type": "markdown",
   "metadata": {},
   "source": [
    "---\n",
    "\n",
    "---"
   ]
  },
  {
   "cell_type": "markdown",
   "metadata": {},
   "source": [
    "---\n",
    "\n",
    "---"
   ]
  }
 ],
 "metadata": {
  "kernelspec": {
   "display_name": "Python 3",
   "language": "python",
   "name": "python3"
  },
  "language_info": {
   "codemirror_mode": {
    "name": "ipython",
    "version": 3
   },
   "file_extension": ".py",
   "mimetype": "text/x-python",
   "name": "python",
   "nbconvert_exporter": "python",
   "pygments_lexer": "ipython3",
   "version": "3.6.1"
  }
 },
 "nbformat": 4,
 "nbformat_minor": 2
}
