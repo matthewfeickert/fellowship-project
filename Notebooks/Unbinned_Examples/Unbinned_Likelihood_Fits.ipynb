{
 "cells": [
  {
   "cell_type": "markdown",
   "metadata": {},
   "source": [
    "# Example Unbinned Likelihood Fits"
   ]
  },
  {
   "cell_type": "code",
   "execution_count": 1,
   "metadata": {},
   "outputs": [
    {
     "name": "stdout",
     "output_type": "stream",
     "text": [
      "tensorflow v1.3.0\n",
      "numpy v1.13.3\n"
     ]
    }
   ],
   "source": [
    "import tensorflow as tf\n",
    "import numpy as np\n",
    "\n",
    "import itertools # for fast looping\n",
    "import time # for timing loop\n",
    "# from iminuit import Minuit # http://iminuit.readthedocs.io/en/latest/installation.html\n",
    "from scipy.optimize import minimize\n",
    "\n",
    "# Show the package versions used\n",
    "for package in [tf, np]:\n",
    "    print('{} v{}'.format(package.__name__, package.__version__))"
   ]
  },
  {
   "cell_type": "markdown",
   "metadata": {},
   "source": [
    "First we will define the function that we are going to sample from and then fit to"
   ]
  },
  {
   "cell_type": "code",
   "execution_count": 2,
   "metadata": {},
   "outputs": [],
   "source": [
    "# This is probably not even close to how I should do things\n",
    "import math\n",
    "def my_formula(formula_lambda, *args):\n",
    "    \"\"\"\n",
    "    Create and evaluate a function\n",
    "    \n",
    "    Args:\n",
    "        formula_lambda: `lambda`\n",
    "        *args: parameters to evaluate the formula with\n",
    "    \n",
    "    Returns:\n",
    "        The formula passed evaluated at the parameters passed\n",
    "    \n",
    "    Example:\n",
    "    >>> my_formula(lambda x, y: x * y, 1, 2)\n",
    "    2\n",
    "    >>> my_formula(lambda x, mu, sigma: \\\n",
    "                  math.exp(-1.0*(x - mu)*(x - mu)/math.sqrt(2*math.pi))/(sigma*math.sqrt(2*math.pi)),\n",
    "                  0, 0, 1)\n",
    "    0.3989422804014327\n",
    "    \"\"\"\n",
    "    return formula_lambda(*args)"
   ]
  },
  {
   "cell_type": "code",
   "execution_count": 3,
   "metadata": {},
   "outputs": [
    {
     "data": {
      "text/plain": [
       "0.3989422804014327"
      ]
     },
     "execution_count": 3,
     "metadata": {},
     "output_type": "execute_result"
    }
   ],
   "source": [
    "my_formula(lambda x, mu, sigma: \\\n",
    "           math.exp(-1.0*(x - mu)*(x - mu)/math.sqrt(2*math.pi))/(sigma*math.sqrt(2*math.pi)),\n",
    "           0, 0, 1)"
   ]
  },
  {
   "cell_type": "markdown",
   "metadata": {},
   "source": [
    "However, let's just use TensorFlow's Normal distribution as it already exists"
   ]
  },
  {
   "cell_type": "markdown",
   "metadata": {},
   "source": [
    "## Fit in TensorFlow"
   ]
  },
  {
   "cell_type": "code",
   "execution_count": 4,
   "metadata": {},
   "outputs": [],
   "source": [
    "def sample_model(model, n_samples, TYPE=np.float32):\n",
    "    \"\"\"\n",
    "    Sample the model n_samples times\n",
    "    \n",
    "    Args:\n",
    "        model: `tf.distributions` The model\n",
    "        n_samples: `int` The number of times the model is samples\n",
    "    \n",
    "    Returns:\n",
    "        The sampled points and their values: x,y\n",
    "        x: model.sample(n_samples)\n",
    "        y: model.prob(x)\n",
    "    \"\"\"\n",
    "    x = model.sample(n_samples)\n",
    "    y = model.prob(x)\n",
    "    \n",
    "    with tf.Session() as sess:\n",
    "        init = tf.global_variables_initializer()\n",
    "        sess.run(init)\n",
    "        return sess.run(x), sess.run(y)"
   ]
  },
  {
   "cell_type": "code",
   "execution_count": 5,
   "metadata": {},
   "outputs": [],
   "source": [
    "def normal_log(X, mu, sigma, TYPE=np.float32):\n",
    "    \"\"\"The log of Normal(X | mu, sigma)\"\"\"\n",
    "    return -tf.log(tf.constant(np.sqrt(2 * np.pi), dtype=TYPE) * sigma) - \\\n",
    "        tf.pow(X - mu, 2) / (tf.constant(2, dtype=TYPE) * tf.pow(sigma, 2))"
   ]
  },
  {
   "cell_type": "code",
   "execution_count": 6,
   "metadata": {},
   "outputs": [],
   "source": [
    "def nll(X, mu, sigma, TYPE=np.float32):\n",
    "    \"\"\"The NLL of Normal(X | mu, sigma)\"\"\"\n",
    "    return -tf.reduce_sum(normal_log(X, mu, sigma, TYPE))"
   ]
  },
  {
   "cell_type": "markdown",
   "metadata": {},
   "source": [
    "c.f. https://gist.github.com/ibab/45c3d886c182a1ea26d5"
   ]
  },
  {
   "cell_type": "code",
   "execution_count": 7,
   "metadata": {},
   "outputs": [],
   "source": [
    "# pdf of Gaussian of variable x with mean mu and standard deviation sigma\n",
    "mu = tf.Variable(0.)\n",
    "sigma = tf.Variable(1.)\n",
    "model_tf = tf.distributions.Normal(loc=mu, scale=sigma)"
   ]
  },
  {
   "cell_type": "code",
   "execution_count": 8,
   "metadata": {
    "scrolled": false
   },
   "outputs": [
    {
     "name": "stdout",
     "output_type": "stream",
     "text": [
      "true mu = 0.5, true sigma = 1.5\n",
      "mu = 0.4988746762836436, sigma = 1.5022315618086808\n",
      "\n",
      "fit 1000000 points 10 times in 10.383291721343994 seconds\n",
      "The average fit time is 1.0383291721343995 seconds\n"
     ]
    }
   ],
   "source": [
    "# My memory on my computer seems to fill up and stay full very fast by rerunning this\n",
    "# so it seems that Python is not releasing anything\n",
    "\n",
    "# MLE attempt\n",
    "TYPE = np.float64 # This is required(?) for the fit to converge\n",
    "# TYPE = np.float32\n",
    "\n",
    "n_events = 1000000 # time of fit is very dependent on n_events\n",
    "n_trials = 10\n",
    "\n",
    "sess = tf.Session()\n",
    "\n",
    "# def func(mu_, sigma_):\n",
    "#     return sess.run(nll_, feed_dict={mu: mu_, sigma: sigma_})\n",
    "\n",
    "def func(x):\n",
    "    return sess.run(nll_, feed_dict={mu: x[0], sigma: x[1]})\n",
    "\n",
    "mu_true = tf.Variable(0.5)\n",
    "sigma_true = tf.Variable(1.5)\n",
    "model_tf = tf.distributions.Normal(loc=mu_true, scale=sigma_true)\n",
    "\n",
    "start_time = time.time()\n",
    "for _ in itertools.repeat(None, n_trials):\n",
    "    data = np.random.normal(0.5, 1.5, n_events)\n",
    "#     data, _ = sample_model(model_tf, n_events) # this is wrong for some reason\n",
    "    \n",
    "    # Define data as a variable so that it will be cached\n",
    "    X = tf.Variable(data, name='data')\n",
    "    \n",
    "    mu = tf.Variable(TYPE(1), name='mu')\n",
    "    sigma = tf.Variable(TYPE(2), name='sigma')\n",
    "    \n",
    "    init = tf.global_variables_initializer()\n",
    "    sess.run(init)\n",
    "    \n",
    "    nll_ = nll(X, mu, sigma, TYPE)\n",
    "    \n",
    "    # To guard against excessive output\n",
    "    if n_trials > 1:\n",
    "        print_level = 0\n",
    "    else:\n",
    "        print_level = 1\n",
    "    \n",
    "    ret = minimize(func, x0=[10, 10], bounds=[(-1, 100), (0.00001, 100)])\n",
    "#     print(ret.x, ret.fun) # x is an array of fit values, fun is the value of the function passed\n",
    "    \n",
    "end_time = time.time()\n",
    "time_duration = end_time - start_time\n",
    "mean_fit_time = time_duration/n_trials\n",
    "\n",
    "print(\"true mu = {}, true sigma = {}\".format(sess.run(mu_true), sess.run(sigma_true)))\n",
    "print(\"mu = {}, sigma = {}\".format(ret.x[0], ret.x[1]))\n",
    "      \n",
    "sess.close()\n",
    "\n",
    "print(\"\\nfit {} points {} times in {} seconds\".format(n_events, n_trials, time_duration))\n",
    "print(\"The average fit time is {} seconds\".format(mean_fit_time))"
   ]
  },
  {
   "cell_type": "markdown",
   "metadata": {},
   "source": [
    "---"
   ]
  },
  {
   "cell_type": "code",
   "execution_count": 9,
   "metadata": {},
   "outputs": [],
   "source": [
    "# Example\n",
    "test_x, test_y = sample_model(model_tf, 50)"
   ]
  },
  {
   "cell_type": "code",
   "execution_count": 10,
   "metadata": {},
   "outputs": [
    {
     "name": "stdout",
     "output_type": "stream",
     "text": [
      "[-2.60797119  2.14600801 -0.38215697  0.08869576 -0.47034073 -0.09784842\n",
      "  1.44825947  0.07784218 -1.56196523  0.62938935  0.87335515  1.11305213\n",
      "  1.32686877 -2.9331851  -0.92176485  2.34848523  0.74615407 -0.99187303\n",
      "  0.02834952  0.06921425  0.91782087  0.08715844  1.85106611 -0.64145851\n",
      " -1.97008777 -0.23839629 -0.67484021 -1.83718324  0.1749588  -0.11075425\n",
      "  2.83260632  2.32785082  1.85071301  0.23090461  1.93667817 -2.0404954\n",
      " -1.59410286 -2.14791346 -0.33951831  0.32414171  1.0723927  -1.59547114\n",
      "  0.18054867  0.67151153  1.65632772 -0.49255466  1.16626561 -1.24136126\n",
      "  2.08359957 -0.76459765]\n",
      "[ 0.12120605  0.25518087  0.25400105  0.19147547  0.25892249  0.20248026\n",
      "  0.26479915  0.05258462  0.06306614  0.2659151   0.2575492   0.24161479\n",
      "  0.07861906  0.08805612  0.11374611  0.2596983   0.25814852  0.26470211\n",
      "  0.20939004  0.19198905  0.15916103  0.0249576   0.26557159  0.22997639\n",
      "  0.26551747  0.25633875  0.19711402  0.01318751  0.26592603  0.26569301\n",
      "  0.08894145  0.26344553  0.12792765  0.25615034  0.26592568  0.21126629\n",
      "  0.25348189  0.22239874  0.25860783  0.05846077  0.25657874  0.26526329\n",
      "  0.25455356  0.26436192  0.19718102  0.21133423  0.25367811  0.20483872\n",
      "  0.13974296  0.22968298]\n"
     ]
    }
   ],
   "source": [
    "print(test_x)\n",
    "print(test_y)"
   ]
  },
  {
   "cell_type": "markdown",
   "metadata": {},
   "source": [
    "## Fit in NumPy"
   ]
  },
  {
   "cell_type": "code",
   "execution_count": null,
   "metadata": {},
   "outputs": [],
   "source": [
    "TYPE = np.float64\n",
    "\n",
    "mu_true = 0.5\n",
    "sigma_true = 1.5\n",
    "\n",
    "# model_np is the normal distribution from np\n",
    "\n",
    "start_time = time.time()\n",
    "for _ in itertools.repeat(None, n_trials):\n",
    "    X = np.random.normal(mu_true, sigma_true, n_events).astype(TYPE)\n",
    "    \n",
    "    nll_ = nll(X, mu, sigma, TYPE)\n",
    "    \n",
    "    # To guard against excessive output\n",
    "    if n_trials > 1:\n",
    "        print_level = 0\n",
    "    else:\n",
    "        print_level = 1\n",
    "    \n",
    "    # Gilles example\n",
    "    ret = minimize(func, x0=[10, 10], bounds=[(-1, 100), (0.00001, 100)])\n",
    "#     print(ret.x, ret.fun) # x is an array of fit values, fun is the value of the function passed\n",
    "    \n",
    "end_time = time.time()\n",
    "time_duration = end_time - start_time\n",
    "mean_fit_time = time_duration/n_trials\n",
    "\n",
    "print(\"true mu = {}, true sigma = {}\".format(mu_true, sigma_true))\n",
    "print(\"mu = {}, sigma = {}\".format(ret.x[0], ret.x[1]))\n",
    "\n",
    "print(\"\\nfit {} points {} times in {} seconds\".format(n_events, n_trials, time_duration))\n",
    "print(\"The average fit time is {} seconds\".format(mean_fit_time))"
   ]
  },
  {
   "cell_type": "markdown",
   "metadata": {},
   "source": [
    "## Fit in HistFactory"
   ]
  }
 ],
 "metadata": {
  "kernelspec": {
   "display_name": "Python 3",
   "language": "python",
   "name": "python3"
  },
  "language_info": {
   "codemirror_mode": {
    "name": "ipython",
    "version": 3
   },
   "file_extension": ".py",
   "mimetype": "text/x-python",
   "name": "python",
   "nbconvert_exporter": "python",
   "pygments_lexer": "ipython3",
   "version": "3.6.3"
  }
 },
 "nbformat": 4,
 "nbformat_minor": 2
}
