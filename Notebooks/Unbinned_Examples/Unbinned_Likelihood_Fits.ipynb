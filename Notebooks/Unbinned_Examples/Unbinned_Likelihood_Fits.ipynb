{
 "cells": [
  {
   "cell_type": "markdown",
   "metadata": {},
   "source": [
    "# Example Unbinned Likelihood Fits"
   ]
  },
  {
   "cell_type": "code",
   "execution_count": 1,
   "metadata": {},
   "outputs": [
    {
     "name": "stderr",
     "output_type": "stream",
     "text": [
      "/home/mcf/anaconda3/envs/edwardenv/lib/python3.6/importlib/_bootstrap.py:219: RuntimeWarning: compiletime version 3.5 of module 'tensorflow.python.framework.fast_tensor_util' does not match runtime version 3.6\n",
      "  return f(*args, **kwds)\n"
     ]
    },
    {
     "name": "stdout",
     "output_type": "stream",
     "text": [
      "tensorflow v1.4.0\n",
      "numpy v1.13.3\n"
     ]
    }
   ],
   "source": [
    "import tensorflow as tf\n",
    "import numpy as np\n",
    "\n",
    "import itertools # for fast looping\n",
    "import time # for timing loop\n",
    "# from iminuit import Minuit # http://iminuit.readthedocs.io/en/latest/installation.html\n",
    "import scipy.stats as stats\n",
    "import scipy.optimize as op\n",
    "\n",
    "%matplotlib inline\n",
    "import matplotlib.pyplot as plt\n",
    "import matplotlib.patches as mpatches\n",
    "\n",
    "# Show the package versions used\n",
    "for package in [tf, np]:\n",
    "    print('{} v{}'.format(package.__name__, package.__version__))"
   ]
  },
  {
   "cell_type": "markdown",
   "metadata": {},
   "source": [
    "First we will define the function that we are going to sample from and then fit to"
   ]
  },
  {
   "cell_type": "code",
   "execution_count": 2,
   "metadata": {},
   "outputs": [],
   "source": [
    "# This is probably not even close to how I should do things\n",
    "import math\n",
    "def my_formula(formula_lambda, *args):\n",
    "    \"\"\"\n",
    "    Create and evaluate a function\n",
    "    \n",
    "    Args:\n",
    "        formula_lambda: `lambda`\n",
    "        *args: parameters to evaluate the formula with\n",
    "    \n",
    "    Returns:\n",
    "        The formula passed evaluated at the parameters passed\n",
    "    \n",
    "    Example:\n",
    "    >>> my_formula(lambda x, y: x * y, 1, 2)\n",
    "    2\n",
    "    >>> my_formula(lambda x, mu, sigma: \\\n",
    "                  math.exp(-1.0*(x - mu)*(x - mu)/math.sqrt(2*math.pi))/(sigma*math.sqrt(2*math.pi)),\n",
    "                  0, 0, 1)\n",
    "    0.3989422804014327\n",
    "    \"\"\"\n",
    "    return formula_lambda(*args)"
   ]
  },
  {
   "cell_type": "code",
   "execution_count": 3,
   "metadata": {},
   "outputs": [
    {
     "data": {
      "text/plain": [
       "0.3989422804014327"
      ]
     },
     "execution_count": 3,
     "metadata": {},
     "output_type": "execute_result"
    }
   ],
   "source": [
    "my_formula(lambda x, mu, sigma: \\\n",
    "           math.exp(-1.0*(x - mu)*(x - mu)/math.sqrt(2*math.pi))/(sigma*math.sqrt(2*math.pi)),\n",
    "           0, 0, 1)"
   ]
  },
  {
   "cell_type": "markdown",
   "metadata": {},
   "source": [
    "However, let's just use TensorFlow's Normal distribution as it already exists"
   ]
  },
  {
   "cell_type": "markdown",
   "metadata": {},
   "source": [
    "## Fit in TensorFlow"
   ]
  },
  {
   "cell_type": "code",
   "execution_count": 4,
   "metadata": {},
   "outputs": [],
   "source": [
    "def sample_model(model, n_samples, TYPE=np.float32):\n",
    "    \"\"\"\n",
    "    Sample the model n_samples times\n",
    "    \n",
    "    Args:\n",
    "        model: `tf.distributions` The model\n",
    "        n_samples: `int` The number of times the model is samples\n",
    "    \n",
    "    Returns:\n",
    "        The sampled points and their values: x,y\n",
    "        x: model.sample(n_samples)\n",
    "        y: model.prob(x)\n",
    "    \"\"\"\n",
    "    x = model.sample(n_samples)\n",
    "    y = model.prob(x)\n",
    "    \n",
    "    with tf.Session() as sess:\n",
    "        init = tf.global_variables_initializer()\n",
    "        sess.run(init)\n",
    "        return sess.run(x), sess.run(y)"
   ]
  },
  {
   "cell_type": "code",
   "execution_count": 5,
   "metadata": {},
   "outputs": [],
   "source": [
    "def normal_log(X, mu, sigma, TYPE=np.float32):\n",
    "    \"\"\"The log of Normal(X | mu, sigma)\"\"\"\n",
    "    return -tf.log(tf.constant(np.sqrt(2 * np.pi), dtype=TYPE) * sigma) - \\\n",
    "        tf.pow(X - mu, 2) / (tf.constant(2, dtype=TYPE) * tf.pow(sigma, 2))"
   ]
  },
  {
   "cell_type": "code",
   "execution_count": 6,
   "metadata": {},
   "outputs": [],
   "source": [
    "def nll(X, mu, sigma, TYPE=np.float32):\n",
    "    \"\"\"The NLL of Normal(X | mu, sigma)\"\"\"\n",
    "    return -tf.reduce_sum(normal_log(X, mu, sigma, TYPE))"
   ]
  },
  {
   "cell_type": "markdown",
   "metadata": {},
   "source": [
    "c.f. https://gist.github.com/ibab/45c3d886c182a1ea26d5"
   ]
  },
  {
   "cell_type": "code",
   "execution_count": 7,
   "metadata": {},
   "outputs": [],
   "source": [
    "# pdf of Gaussian of variable x with mean mu and standard deviation sigma\n",
    "# mu = tf.Variable(0.)\n",
    "mu = tf.Variable(np.float64(0.))\n",
    "# sigma = tf.Variable(1.)\n",
    "sigma = tf.Variable(np.float64(1.))\n",
    "model_tf = tf.distributions.Normal(loc=mu, scale=sigma)"
   ]
  },
  {
   "cell_type": "code",
   "execution_count": 8,
   "metadata": {
    "scrolled": false
   },
   "outputs": [
    {
     "name": "stdout",
     "output_type": "stream",
     "text": [
      "true mu = 0.5, true sigma = 1.5\n",
      "mu = 0.5008864950544686, sigma = 1.4997650321052038\n",
      "\n",
      "fit 1000000 points 10 times in 4.829134464263916 seconds\n",
      "The average fit time is 0.4829134464263916 seconds\n"
     ]
    }
   ],
   "source": [
    "# My memory on my computer seems to fill up and stay full very fast by rerunning this\n",
    "# so it seems that Python is not releasing anything\n",
    "\n",
    "# MLE attempt\n",
    "TYPE = np.float64 # This is required(?) for the fit to converge\n",
    "# TYPE = np.float32\n",
    "\n",
    "n_events = 1000000 # time of fit is very dependent on n_events\n",
    "n_trials = 10\n",
    "\n",
    "sess = tf.Session()\n",
    "\n",
    "# def func(mu_, sigma_):\n",
    "#     return sess.run(nll_, feed_dict={mu: mu_, sigma: sigma_})\n",
    "\n",
    "def func(x):\n",
    "    return sess.run(nll_, feed_dict={mu: x[0], sigma: x[1]})\n",
    "\n",
    "mu_true = tf.Variable(np.float64(0.5))\n",
    "sigma_true = tf.Variable(np.float64(1.5))\n",
    "model_tf = tf.distributions.Normal(loc=mu_true, scale=sigma_true)\n",
    "\n",
    "start_time = time.time()\n",
    "for _ in itertools.repeat(None, n_trials):\n",
    "    data = np.random.normal(0.5, 1.5, n_events)\n",
    "#     data, _ = sample_model(model_tf, n_events) # this is wrong for some reason\n",
    "    \n",
    "    # Define data as a variable so that it will be cached\n",
    "    X = tf.Variable(data, name='data')\n",
    "    \n",
    "    mu = tf.Variable(TYPE(1), name='mu')\n",
    "    sigma = tf.Variable(TYPE(1), name='sigma')\n",
    "    \n",
    "    init = tf.global_variables_initializer()\n",
    "    sess.run(init)\n",
    "    \n",
    "    nll_ = nll(X, mu, sigma, TYPE)\n",
    "    \n",
    "    # To guard against excessive output\n",
    "    if n_trials > 1:\n",
    "        print_level = 0\n",
    "    else:\n",
    "        print_level = 1\n",
    "    \n",
    "    ret = op.minimize(func, x0=[10, 10], bounds=[(-1, 100), (0.00001, 100)])\n",
    "#     print(ret.x, ret.fun) # x is an array of fit values, fun is the value of the function passed\n",
    "    \n",
    "end_time = time.time()\n",
    "time_duration = end_time - start_time\n",
    "mean_fit_time = time_duration/n_trials\n",
    "\n",
    "print(\"true mu = {}, true sigma = {}\".format(sess.run(mu_true), sess.run(sigma_true)))\n",
    "print(\"mu = {}, sigma = {}\".format(ret.x[0], ret.x[1]))\n",
    "      \n",
    "sess.close()\n",
    "\n",
    "print(\"\\nfit {} points {} times in {} seconds\".format(n_events, n_trials, time_duration))\n",
    "print(\"The average fit time is {} seconds\".format(mean_fit_time))"
   ]
  },
  {
   "cell_type": "code",
   "execution_count": 9,
   "metadata": {},
   "outputs": [
    {
     "name": "stdout",
     "output_type": "stream",
     "text": [
      "[ 2.85061246  1.59837351  0.44397288 ...,  1.30403552 -3.9462079\n",
      "  0.03658119]\n"
     ]
    }
   ],
   "source": [
    "print(data)"
   ]
  },
  {
   "cell_type": "code",
   "execution_count": 10,
   "metadata": {},
   "outputs": [
    {
     "data": {
      "image/png": "[encoded data removed]",
      "text/plain": [
       "<matplotlib.figure.Figure at 0x7fc0211116d8>"
      ]
     },
     "metadata": {},
     "output_type": "display_data"
    }
   ],
   "source": [
    "x = np.linspace(-5.0, 5.0, num=10000)\n",
    "plt.figure(1)\n",
    "\n",
    "sample_distribution = stats.norm.pdf(x, ret.x[0], ret.x[1])\n",
    "\n",
    "# Plot histogram of samples\n",
    "hist_count, bins, _ = plt.hist(data, 50, normed=True) #Norm to keep distribution in view\n",
    "plt.plot(x, sample_distribution, linewidth=2, color='black')\n",
    "\n",
    "plt.show()"
   ]
  },
  {
   "cell_type": "markdown",
   "metadata": {},
   "source": [
    "---"
   ]
  },
  {
   "cell_type": "code",
   "execution_count": 11,
   "metadata": {},
   "outputs": [],
   "source": [
    "# Example\n",
    "test_x, test_y = sample_model(model_tf, 50)"
   ]
  },
  {
   "cell_type": "code",
   "execution_count": 12,
   "metadata": {},
   "outputs": [
    {
     "name": "stdout",
     "output_type": "stream",
     "text": [
      "[-0.33729739  1.06583416  1.18502168  0.68129834  0.27169948 -0.07307988\n",
      "  2.09521759  1.19116249 -2.6992311  -0.42686769  4.46029173  0.82111575\n",
      "  2.19121298  0.81589722  0.4104124   0.35021305 -1.7725482   2.10104395\n",
      " -1.16246493  2.24060421 -0.22259101  0.15716769  0.92865403  1.33654034\n",
      "  0.70968291 -2.46653089  1.48370714  4.20501768  1.78805253  0.4615136\n",
      "  4.06840266  0.05723466  1.67091431  0.68597732 -0.56271742  1.65666754\n",
      "  2.11648315  3.11680725  1.02679517  0.6420526  -0.46124367  2.28573862\n",
      " -0.12653971 -1.10976458  0.84212054 -1.85996423  0.6227112   2.9093652\n",
      "  0.35202837  1.23789941]\n",
      "[ 0.21990547  0.1994977   0.15953804  0.10839476  0.26271476  0.22629358\n",
      "  0.26595762  0.23584467  0.25993509  0.17133268  0.17382749  0.02040382\n",
      "  0.22962169  0.26594979  0.26443605  0.08399361  0.24806608  0.25947347\n",
      "  0.11939499  0.25261468  0.12575693  0.12237124  0.22611715  0.14159498\n",
      "  0.14481888  0.23622513  0.26329192  0.13866789  0.17692679  0.21952614\n",
      "  0.26064811  0.14222418  0.22428049  0.14041441  0.21988553  0.26250883\n",
      "  0.2630326   0.00505936  0.1776042   0.22681493  0.25880168  0.09892195\n",
      "  0.0932562   0.19685438  0.16181326  0.15722796  0.0705707   0.26364714\n",
      "  0.09932353  0.19045361]\n"
     ]
    }
   ],
   "source": [
    "print(test_x)\n",
    "print(test_y)"
   ]
  },
  {
   "cell_type": "markdown",
   "metadata": {},
   "source": [
    "---"
   ]
  },
  {
   "cell_type": "markdown",
   "metadata": {},
   "source": [
    "## Fit in SciPy"
   ]
  },
  {
   "cell_type": "markdown",
   "metadata": {},
   "source": [
    "### Fit using `rv_continuous.fit()`"
   ]
  },
  {
   "cell_type": "code",
   "execution_count": 13,
   "metadata": {},
   "outputs": [],
   "source": [
    "TYPE = np.float64\n",
    "\n",
    "# Using the continuous random variable class\n",
    "# https://docs.scipy.org/doc/scipy-0.19.0/reference/generated/scipy.stats.rv_continuous.html\n",
    "from scipy.stats import rv_continuous\n",
    "class model_gen(rv_continuous):\n",
    "    \"\"\"Normal distribution\"\"\"\n",
    "    def _pdf(self, x):\n",
    "        return np.exp(-x**2 / 2.) / np.sqrt(2.0 * np.pi)"
   ]
  },
  {
   "cell_type": "markdown",
   "metadata": {},
   "source": [
    "Show that the fit can work at all"
   ]
  },
  {
   "cell_type": "code",
   "execution_count": 14,
   "metadata": {},
   "outputs": [
    {
     "name": "stdout",
     "output_type": "stream",
     "text": [
      "MLE mean: 0.4984328533411571\n",
      "MLE standard deviation: 1.5009249170773948\n"
     ]
    }
   ],
   "source": [
    "scipy_gaussian = model_gen(name='gaussian')\n",
    "\n",
    "mu_true = 0.5\n",
    "sigma_true = 1.5\n",
    "\n",
    "X = np.random.normal(mu_true, sigma_true, n_events).astype(TYPE)\n",
    "\n",
    "# Return MLEs for shape, location, and scale parameters from data\n",
    "# https://docs.scipy.org/doc/scipy-0.14.0/reference/generated/scipy.stats.rv_continuous.fit.html\n",
    "scipy_ret = scipy_gaussian.fit(X)\n",
    "\n",
    "print('MLE mean: {}'.format(scipy_ret[0]))\n",
    "print('MLE standard deviation: {}'.format(scipy_ret[1]))"
   ]
  },
  {
   "cell_type": "markdown",
   "metadata": {},
   "source": [
    "Time the fit"
   ]
  },
  {
   "cell_type": "code",
   "execution_count": 15,
   "metadata": {},
   "outputs": [
    {
     "name": "stdout",
     "output_type": "stream",
     "text": [
      "true mu = 0.5, true sigma = 1.5\n",
      "MLE mu = 0.5030657523953337, MLE sigma = 1.4999146467346545\n",
      "\n",
      "fit 1000000 points 10 times in 77.80968499183655 seconds\n",
      "The average fit time is 7.780968499183655 seconds\n"
     ]
    }
   ],
   "source": [
    "start_time = time.time()\n",
    "\n",
    "for _ in itertools.repeat(None, n_trials):\n",
    "    X = np.random.normal(mu_true, sigma_true, n_events).astype(TYPE)\n",
    "    scipy_ret = scipy_gaussian.fit(X)\n",
    "    \n",
    "end_time = time.time()\n",
    "time_duration = end_time - start_time\n",
    "mean_fit_time = time_duration/n_trials\n",
    "\n",
    "print(\"true mu = {}, true sigma = {}\".format(mu_true, sigma_true))\n",
    "print(\"MLE mu = {}, MLE sigma = {}\".format(scipy_ret[0], scipy_ret[1]))\n",
    "\n",
    "print(\"\\nfit {} points {} times in {} seconds\".format(n_events, n_trials, time_duration))\n",
    "print(\"The average fit time is {} seconds\".format(mean_fit_time))"
   ]
  },
  {
   "cell_type": "markdown",
   "metadata": {},
   "source": [
    "### Fit using `optimize.minimize()`"
   ]
  },
  {
   "cell_type": "markdown",
   "metadata": {},
   "source": [
    "Define the NLL for our Gaussian model --- the function we want to minimize"
   ]
  },
  {
   "cell_type": "code",
   "execution_count": 16,
   "metadata": {},
   "outputs": [],
   "source": [
    "def nll(x, data):\n",
    "    \"\"\"The negative log likelihood of Normal(X | loc, scale)\"\"\"\n",
    "    loc, scale = x\n",
    "    return len(data) * np.log(scale) + np.sum((data - loc) ** 2) / (2 * scale ** 2)"
   ]
  },
  {
   "cell_type": "markdown",
   "metadata": {},
   "source": [
    "Show that the fit can work at all"
   ]
  },
  {
   "cell_type": "code",
   "execution_count": 17,
   "metadata": {},
   "outputs": [
    {
     "name": "stdout",
     "output_type": "stream",
     "text": [
      "MLE mean: 0.49795909963163215\n",
      "MLE standard deviation: 1.5003641016819975\n"
     ]
    }
   ],
   "source": [
    "mu_true = 0.5\n",
    "sigma_true = 1.5\n",
    "\n",
    "X = np.random.normal(mu_true, sigma_true, n_events).astype(TYPE)\n",
    "\n",
    "# https://docs.scipy.org/doc/scipy/reference/generated/scipy.optimize.minimize.html#scipy.optimize.minimize\n",
    "op_ret = op.minimize(nll, x0=[10,10], args=(X), bounds=((None, None), (0.00001, None)))\n",
    "\n",
    "print('MLE mean: {}'.format(op_ret.x[0]))\n",
    "print('MLE standard deviation: {}'.format(op_ret.x[1]))"
   ]
  },
  {
   "cell_type": "markdown",
   "metadata": {},
   "source": [
    "Time the fit"
   ]
  },
  {
   "cell_type": "code",
   "execution_count": 18,
   "metadata": {},
   "outputs": [
    {
     "name": "stdout",
     "output_type": "stream",
     "text": [
      "true mu = 0.5, true sigma = 1.5\n",
      "MLE mu = 0.49928668175507446, MLE sigma = 1.4985089763712618\n",
      "\n",
      "fit 1000000 points 10 times in 2.758953809738159 seconds\n",
      "The average fit time is 0.27589538097381594 seconds\n"
     ]
    }
   ],
   "source": [
    "start_time = time.time()\n",
    "\n",
    "for _ in itertools.repeat(None, n_trials):\n",
    "    X = np.random.normal(mu_true, sigma_true, n_events).astype(TYPE)\n",
    "    op_ret = op.minimize(nll, x0=[10,10], args=(X), bounds=((None, None), (0.00001, None)))\n",
    "    \n",
    "end_time = time.time()\n",
    "time_duration = end_time - start_time\n",
    "mean_fit_time = time_duration/n_trials\n",
    "\n",
    "print(\"true mu = {}, true sigma = {}\".format(mu_true, sigma_true))\n",
    "print(\"MLE mu = {}, MLE sigma = {}\".format(op_ret.x[0], op_ret.x[1]))\n",
    "\n",
    "print(\"\\nfit {} points {} times in {} seconds\".format(n_events, n_trials, time_duration))\n",
    "print(\"The average fit time is {} seconds\".format(mean_fit_time))"
   ]
  },
  {
   "cell_type": "markdown",
   "metadata": {},
   "source": [
    "---"
   ]
  },
  {
   "cell_type": "markdown",
   "metadata": {},
   "source": [
    "## Fit in HistFactory"
   ]
  }
 ],
 "metadata": {
  "kernelspec": {
   "display_name": "Python 3",
   "language": "python",
   "name": "python3"
  },
  "language_info": {
   "codemirror_mode": {
    "name": "ipython",
    "version": 3
   },
   "file_extension": ".py",
   "mimetype": "text/x-python",
   "name": "python",
   "nbconvert_exporter": "python",
   "pygments_lexer": "ipython3",
   "version": "3.6.3"
  }
 },
 "nbformat": 4,
 "nbformat_minor": 2
}
